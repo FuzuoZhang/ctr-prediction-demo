{
 "cells": [
  {
   "cell_type": "markdown",
   "metadata": {},
   "source": [
    "# 回归方法"
   ]
  },
  {
   "cell_type": "markdown",
   "metadata": {},
   "source": [
    "## PLS\n",
    "https://en.wikipedia.org/wiki/Partial_least_squares_regression\n",
    "\n",
    "- PCA\n",
    "- PCR (principal components regression):响应和独立变量之间的最大方差超平面\n",
    "\n",
    "- PLS：对于矩阵X和矩阵Y，在X空间中寻找多维方向，以解释Y空间中的最大多维方差方向\n",
    "- PLSR (Partial least squares regression)：通过将预测变量和观测变量投影到新空间来进行线性回归\n",
    "- PLS-DA (PLS Discriminant Analysis):PLSR的变种，Y是类别型的(when the Y is categorical)（分类器？）\n",
    "- PLSC (PLS correlation)"
   ]
  },
  {
   "cell_type": "markdown",
   "metadata": {},
   "source": [
    "PLSR尤其适用于：\n",
    "- **变量个数多余样本个数**\n",
    "- **X具有 multicollinearity 性质**\n",
    "\n",
    "线性回归在这种情形下会失败（前者造成不定方程组，后者造成协方差矩阵${ X^{\\top }X} $奇异）"
   ]
  },
  {
   "cell_type": "markdown",
   "metadata": {},
   "source": [
    "### PLS  基本模型\n",
    "\n",
    "$$\n",
    "{\\displaystyle X=TP^{\\mathrm {T} }+E} \n",
    "$$\n",
    "$$\n",
    "{\\displaystyle Y=UQ^{\\mathrm {T} }+F} \n",
    "$$\n",
    "\n",
    "\n",
    "- X: n $\\times$ m，预测predictors\n",
    "- Y: n $\\times$ p, 相应responses\n",
    "- T: n $\\times$ l, X的投影，X score，component，factor matrix\n",
    "- U: n $\\times$ l，Y的投影，Y score\n",
    "- P: m $\\times$ l，正交负载矩阵loading\n",
    "- Q: p $\\times$ l，正交负载矩阵loading\n",
    "- E: error，独立同分布随机正态变量\n",
    "- F: error，独立同分布随机正态变量\n",
    "\n",
    "最大化$T$和$U$的协方差covariance"
   ]
  },
  {
   "cell_type": "markdown",
   "metadata": {},
   "source": [
    "### 算法Algorithm\n",
    "\n",
    "#### PLS1\n",
    "假设T是正交矩阵？\n"
   ]
  },
  {
   "cell_type": "markdown",
   "metadata": {},
   "source": [
    "## 线性回归\n",
    "目标是最小化SSR(残差平方和 sum of squared residuals)。也即MSE（均方误差，mean square error）"
   ]
  },
  {
   "cell_type": "markdown",
   "metadata": {
    "ExecuteTime": {
     "end_time": "2019-05-28T02:50:31.571209Z",
     "start_time": "2019-05-28T02:50:31.559576Z"
    }
   },
   "source": [
    "## Lasso, Ridge, Elastic Net"
   ]
  },
  {
   "cell_type": "markdown",
   "metadata": {},
   "source": [
    "## BayesianRidge"
   ]
  },
  {
   "cell_type": "markdown",
   "metadata": {},
   "source": [
    "## SGD回归\n",
    "sklearn.linear_model.SGDRegressor"
   ]
  },
  {
   "cell_type": "markdown",
   "metadata": {},
   "source": [
    "## 高斯过程（GP）\n",
    "GP，一个监督学习方法，用于回归、概率分类。\n",
    "\n",
    "优点：\n",
    "- 预测是对观测的内插/插值\n",
    "- 预测是概率型的，便于重新训练refit\n",
    "- 多样的（Versatile），可以使用多种核函数kernels\n",
    "\n",
    "缺点：\n",
    "- 使用所有样本、变量，不稀疏\n",
    "- 抵效率，在高维空间问题\n",
    "\n",
    "### 高斯过程回归（GP Regression，GPR）"
   ]
  },
  {
   "cell_type": "markdown",
   "metadata": {},
   "source": [
    "### 高斯过程分类 Gaussian Process Classification (GPC)"
   ]
  },
  {
   "cell_type": "markdown",
   "metadata": {},
   "source": [
    "## Kernel Ridge Regression (KRR)"
   ]
  },
  {
   "cell_type": "markdown",
   "metadata": {},
   "source": [
    "## Isotonic regression"
   ]
  },
  {
   "cell_type": "markdown",
   "metadata": {},
   "source": [
    "## SVR"
   ]
  },
  {
   "cell_type": "markdown",
   "metadata": {},
   "source": [
    "## KNN回归\n",
    "sklearn.neighbors.KNeighborsRegressor"
   ]
  },
  {
   "cell_type": "markdown",
   "metadata": {},
   "source": [
    "## MLPRegressor\n",
    "sklearn.neural_network.MLPRegressor"
   ]
  },
  {
   "cell_type": "markdown",
   "metadata": {},
   "source": [
    "## GBM\n",
    "### lightgbm\n",
    "### xgboost\n",
    "### sklearn gbm,rf,..DecisionTreeRegressor"
   ]
  },
  {
   "cell_type": "markdown",
   "metadata": {},
   "source": [
    "# 技巧\n",
    "## https://www.zhihu.com/question/265230325/answer/292231772\n",
    "\n",
    "**样本如果超过：100，000：**\n",
    "\n",
    "SKlearn 建议 用SGD Regression\n",
    "\n",
    "这两天看Kaggle Mercari Price Suggest 比赛中，高分选手用Ridge, SGD,和LightGBM较多. 也有人用Tensorflow, Keras 等深度学习算法，不过成绩都一般。\n",
    "\n",
    "高分选手的特征工程都非常有创意和精细。\n",
    "\n",
    "**样本数量在 100,000以下 ：**\n",
    "\n",
    "速度最快，Lasso, + Ridge，缺点：线形\n",
    "\n",
    "性能更佳：SVM(RBF内核），缺点：比线形慢(1-5)倍\n",
    "\n",
    "精确度： Ensemble  系列(XGBoost是其中之一），缺点: 比线形慢（10~50倍）\n",
    "\n",
    "就XGBboost而言，如果在其他都不变的情况下换算法，可以考虑LightGMB( 闪电侠，微软出品，开源）。准确度(RMSE类似），速度快2~10倍。\n",
    "\n",
    "\n",
    "嗯，其实上面方法都不用也可以。 我自己试验结果有两个方法可以提高：\n",
    "\n",
    "调参（GridSearch ,或 Random Search)\n",
    "\n",
    "调参时候nfolder 设高一点（默认是3， 改成5，或10）\n",
    "\n",
    "上述方法优点：RMSE值会更好。 原因是 样本变大了。缺点：时间按倍速增长。3万样本，不同CV nfolder 调出来参数不太一样，用该参数训练时模型也不一样。数据越多越好。\n"
   ]
  },
  {
   "cell_type": "markdown",
   "metadata": {},
   "source": [
    "## 案例\n",
    "\n",
    "### 一些kaggle案例 https://zhuanlan.zhihu.com/p/64210681\n",
    "- Kaggle——房价预测\n",
    "- Kaggle——销售量预测\n",
    "- Kaggle——餐厅访客预测\n",
    "- Kaggle——CorporaciónFavoritaGrocery销售预测\n",
    "\n",
    "### 一些天池/DataCastle/CCF案例 https://zhuanlan.zhihu.com/p/24360915\n",
    " \n",
    "本文整理了12个天池、DataCastle、CCF竞赛中可使用回归算法处理的问题场景。\n",
    " \n",
    " \n",
    "- 1 机场客流量分布预测\n",
    " \n",
    "- 2 音乐流行趋势预测\n",
    " \n",
    "- 3 需求预测与仓储规划方案\n",
    " \n",
    "- 4 新浪微博互动量预测\n",
    " \n",
    "- 5 货币基金资金流入流出预测\n",
    " \n",
    "- 6 电影票房预测\n",
    " \n",
    "- 7 农产品价格预测分析\n",
    " \n",
    "- 8 基于多源数据的青藏高原湖泊面积预测\n",
    " \n",
    "- 9 微博传播规模和传播深度预测\n",
    " \n",
    "- 10 鲍鱼年龄预测\n",
    " \n",
    "- 11 学生成绩排名预测\n",
    " \n",
    "- 12 网约车出行流量预测"
   ]
  },
  {
   "cell_type": "code",
   "execution_count": null,
   "metadata": {},
   "outputs": [],
   "source": []
  }
 ],
 "metadata": {
  "kernelspec": {
   "display_name": "Python 3",
   "language": "python",
   "name": "python3"
  },
  "language_info": {
   "codemirror_mode": {
    "name": "ipython",
    "version": 3
   },
   "file_extension": ".py",
   "mimetype": "text/x-python",
   "name": "python",
   "nbconvert_exporter": "python",
   "pygments_lexer": "ipython3",
   "version": "3.7.3"
  },
  "toc": {
   "base_numbering": 1,
   "nav_menu": {},
   "number_sections": true,
   "sideBar": true,
   "skip_h1_title": false,
   "title_cell": "Table of Contents",
   "title_sidebar": "Contents",
   "toc_cell": false,
   "toc_position": {},
   "toc_section_display": true,
   "toc_window_display": true
  }
 },
 "nbformat": 4,
 "nbformat_minor": 2
}
